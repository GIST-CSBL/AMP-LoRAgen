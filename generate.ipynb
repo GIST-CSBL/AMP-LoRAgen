{
 "cells": [
  {
   "cell_type": "code",
   "execution_count": 1,
   "id": "78f7bbee",
   "metadata": {},
   "outputs": [
    {
     "name": "stderr",
     "output_type": "stream",
     "text": [
      "/data/hansol/anaconda3/envs/gpt/lib/python3.8/site-packages/tqdm/auto.py:21: TqdmWarning: IProgress not found. Please update jupyter and ipywidgets. See https://ipywidgets.readthedocs.io/en/stable/user_install.html\n",
      "  from .autonotebook import tqdm as notebook_tqdm\n"
     ]
    },
    {
     "name": "stdout",
     "output_type": "stream",
     "text": [
      "cuda\n"
     ]
    }
   ],
   "source": [
    "import os\n",
    "os.environ[\"CUDA_DEVICE_ORDER\"] = \"PCI_BUS_ID\"\n",
    "os.environ[\"CUDA_VISIBLE_DEVICES\"] = \"0\"\n",
    "\n",
    "import pandas as pd\n",
    "import numpy as np\n",
    "import random\n",
    "import transformers\n",
    "from transformers import Trainer, Trainer, TrainingArguments, AdamW, Adafactor, AutoTokenizer, AutoModelForCausalLM\n",
    "import requests\n",
    "from peft import PeftConfig, PeftModel, AutoPeftModelForCausalLM\n",
    "\n",
    "import torch\n",
    "torch.cuda.is_available()\n",
    "device = torch.device(\"cuda\" if torch.cuda.is_available() else \"cpu\")\n",
    "print(device)"
   ]
  },
  {
   "cell_type": "code",
   "execution_count": 2,
   "id": "af7d9423-70c7-488c-8d6a-2b5a88a6c89d",
   "metadata": {},
   "outputs": [
    {
     "data": {
      "text/plain": [
       "'Escherichia coli'"
      ]
     },
     "execution_count": 2,
     "metadata": {},
     "output_type": "execute_result"
    }
   ],
   "source": [
    "# choose target species to generate AMP sequences for\n",
    "species_df = pd.read_csv('/data/hansol/jroot/data_DBAASP/Genomes_35/species.csv')\n",
    "species_list = np.array(species_df['Species Name'])\n",
    "ind_species = 0\n",
    "species = species_list[ind_species]\n",
    "species"
   ]
  },
  {
   "cell_type": "code",
   "execution_count": 3,
   "id": "c5fc98e2",
   "metadata": {},
   "outputs": [],
   "source": [
    "# input the best set of hyperparameters for the chosen target species\n",
    "r = '32'\n",
    "alpha = '32'\n",
    "\n",
    "tokenizer = AutoTokenizer.from_pretrained('/data/hansol/jroot/ProtGPT2/', do_lower_case = False)\n",
    "base_model_path = '/data/hansol/jroot/ProtGPT2'\n",
    "lora_model_path = '/data/hansol/jroot/amp_loragen/'+species+'_r'+r+'_alpha'+alpha\n",
    "config = PeftConfig.from_pretrained(lora_model_path)\n",
    "base_model = AutoModelForCausalLM.from_pretrained(base_model_path)\n",
    "\n",
    "# load the LoRA adapter weights for the chosen target species\n",
    "model = PeftModel.from_pretrained(base_model, lora_model_path)\n",
    "model = model.to(device)\n",
    "model = model.eval()"
   ]
  },
  {
   "cell_type": "code",
   "execution_count": 4,
   "id": "0e523514",
   "metadata": {},
   "outputs": [],
   "source": [
    "# generation hyperparameters\n",
    "max_length = 100\n",
    "min_length = 10\n",
    "temperature = 1.0\n",
    "k = 50\n",
    "p = 1.0\n",
    "repetition_penalty = 1.2\n",
    "num_return_sequences = 1"
   ]
  },
  {
   "cell_type": "code",
   "execution_count": 5,
   "id": "e2acdfc4",
   "metadata": {
    "scrolled": true
   },
   "outputs": [
    {
     "name": "stderr",
     "output_type": "stream",
     "text": [
      "The attention mask is not set and cannot be inferred from input because pad token is same as eos token. As a consequence, you may observe unexpected behavior. Please pass your input's `attention_mask` to obtain reliable results.\n"
     ]
    },
    {
     "name": "stdout",
     "output_type": "stream",
     "text": [
      "0 IRFSPKLRWRPRWF\n",
      "1 RRFWKRLFRRFGPKILGVAGAVLKALPFPPIK\n",
      "2 VFALLILLILLIFLRKKK\n",
      "3 GLLKILKSIKKAAKKVIKAV\n",
      "4 FGGSWGGSGGSSGGWWKH\n",
      "5 KEGWLAWWKKGAKKVVHKAAHVVGKAF\n",
      "6 INTRKLLKLFKRFLKKG\n",
      "7 VRLLLRRGIRILKKFRKIFWKS\n",
      "8 KFGPWFWRRWRWRRPRPWWC\n",
      "9 SGVWKLIKKLFRMVMDAT\n",
      "10 ISKCGLKISKFSFRIKCG\n",
      "11 FYIGKWGDKTFKWHWKKPHHW\n",
      "12 KLLPWWKKILKKIFKILKKL\n",
      "13 INLLLNNFKLIWKGLKRLFS\n",
      "14 RRRRLRWLGHVLRRPPNYIPRGVLFWKWRYVKRRPRTWRPRY\n",
      "15 KNPKQRNPKWRKPKFRKY\n",
      "16 ITPWWKVFKKLFGKATGKAVKALANVAGKSVAA\n",
      "17 ARYKAYAKKPAKKKRWLSKLFKK\n",
      "18 KNSWKKIGKAVKKAGKKIAKAVAKGAAQVVSQIK\n",
      "19 KSWIKSKFRKLKKLVKKKLKSLIS\n"
     ]
    }
   ],
   "source": [
    "# choose number of sequences to generate\n",
    "num_gen = 20\n",
    "\n",
    "# initialize empty numpy array to store generated sequences\n",
    "gen_seq = np.empty([num_gen,], dtype='<U' + str(max_length-1))\n",
    "\n",
    "for i in range(num_gen):\n",
    "    # start sequence with blank space for generation\n",
    "    sequences_Example = ' '\n",
    "    ids = tokenizer.encode(sequences_Example, add_special_tokens=False)\n",
    "    input_ids = torch.tensor(ids).unsqueeze(0).to(device)\n",
    "            \n",
    "    output_ids = model.generate(\n",
    "        input_ids=input_ids,\n",
    "        max_length=max_length,\n",
    "        min_length=min_length,\n",
    "        temperature=temperature,\n",
    "        top_k=k,\n",
    "        top_p=p,\n",
    "        repetition_penalty=repetition_penalty,\n",
    "        do_sample=True,\n",
    "        num_return_sequences=num_return_sequences,\n",
    "        pad_token_id=tokenizer.eos_token_id\n",
    "    )\n",
    "    \n",
    "    output_sequence = tokenizer.decode(output_ids[0], skip_special_tokens = True)\n",
    "    \n",
    "    # convert array of output tokens to string in single letter residues\n",
    "    output_seq = ''\n",
    "    output_seq += output_sequence[1:]\n",
    "\n",
    "    # delete newline characters\n",
    "    output_seq = output_seq.replace('\\n', '')\n",
    "    gen_seq[i] = output_seq\n",
    "    print(i, output_seq)"
   ]
  },
  {
   "cell_type": "code",
   "execution_count": 6,
   "id": "00cef601-be44-4629-9013-8daa2cbe7093",
   "metadata": {},
   "outputs": [
    {
     "name": "stdout",
     "output_type": "stream",
     "text": [
      "20\n",
      "0\n"
     ]
    },
    {
     "data": {
      "text/html": [
       "<div>\n",
       "<style scoped>\n",
       "    .dataframe tbody tr th:only-of-type {\n",
       "        vertical-align: middle;\n",
       "    }\n",
       "\n",
       "    .dataframe tbody tr th {\n",
       "        vertical-align: top;\n",
       "    }\n",
       "\n",
       "    .dataframe thead th {\n",
       "        text-align: right;\n",
       "    }\n",
       "</style>\n",
       "<table border=\"1\" class=\"dataframe\">\n",
       "  <thead>\n",
       "    <tr style=\"text-align: right;\">\n",
       "      <th></th>\n",
       "      <th>sequence</th>\n",
       "      <th>length</th>\n",
       "    </tr>\n",
       "  </thead>\n",
       "  <tbody>\n",
       "    <tr>\n",
       "      <th>0</th>\n",
       "      <td>IRFSPKLRWRPRWF</td>\n",
       "      <td>14</td>\n",
       "    </tr>\n",
       "    <tr>\n",
       "      <th>1</th>\n",
       "      <td>RRFWKRLFRRFGPKILGVAGAVLKALPFPPIK</td>\n",
       "      <td>32</td>\n",
       "    </tr>\n",
       "    <tr>\n",
       "      <th>2</th>\n",
       "      <td>VFALLILLILLIFLRKKK</td>\n",
       "      <td>18</td>\n",
       "    </tr>\n",
       "    <tr>\n",
       "      <th>3</th>\n",
       "      <td>GLLKILKSIKKAAKKVIKAV</td>\n",
       "      <td>20</td>\n",
       "    </tr>\n",
       "    <tr>\n",
       "      <th>4</th>\n",
       "      <td>FGGSWGGSGGSSGGWWKH</td>\n",
       "      <td>18</td>\n",
       "    </tr>\n",
       "    <tr>\n",
       "      <th>5</th>\n",
       "      <td>KEGWLAWWKKGAKKVVHKAAHVVGKAF</td>\n",
       "      <td>27</td>\n",
       "    </tr>\n",
       "    <tr>\n",
       "      <th>6</th>\n",
       "      <td>INTRKLLKLFKRFLKKG</td>\n",
       "      <td>17</td>\n",
       "    </tr>\n",
       "    <tr>\n",
       "      <th>7</th>\n",
       "      <td>VRLLLRRGIRILKKFRKIFWKS</td>\n",
       "      <td>22</td>\n",
       "    </tr>\n",
       "    <tr>\n",
       "      <th>8</th>\n",
       "      <td>KFGPWFWRRWRWRRPRPWWC</td>\n",
       "      <td>20</td>\n",
       "    </tr>\n",
       "    <tr>\n",
       "      <th>9</th>\n",
       "      <td>SGVWKLIKKLFRMVMDAT</td>\n",
       "      <td>18</td>\n",
       "    </tr>\n",
       "    <tr>\n",
       "      <th>10</th>\n",
       "      <td>ISKCGLKISKFSFRIKCG</td>\n",
       "      <td>18</td>\n",
       "    </tr>\n",
       "    <tr>\n",
       "      <th>11</th>\n",
       "      <td>FYIGKWGDKTFKWHWKKPHHW</td>\n",
       "      <td>21</td>\n",
       "    </tr>\n",
       "    <tr>\n",
       "      <th>12</th>\n",
       "      <td>KLLPWWKKILKKIFKILKKL</td>\n",
       "      <td>20</td>\n",
       "    </tr>\n",
       "    <tr>\n",
       "      <th>13</th>\n",
       "      <td>INLLLNNFKLIWKGLKRLFS</td>\n",
       "      <td>20</td>\n",
       "    </tr>\n",
       "    <tr>\n",
       "      <th>14</th>\n",
       "      <td>RRRRLRWLGHVLRRPPNYIPRGVLFWKWRYVKRRPRTWRPRY</td>\n",
       "      <td>42</td>\n",
       "    </tr>\n",
       "    <tr>\n",
       "      <th>15</th>\n",
       "      <td>KNPKQRNPKWRKPKFRKY</td>\n",
       "      <td>18</td>\n",
       "    </tr>\n",
       "    <tr>\n",
       "      <th>16</th>\n",
       "      <td>ITPWWKVFKKLFGKATGKAVKALANVAGKSVAA</td>\n",
       "      <td>33</td>\n",
       "    </tr>\n",
       "    <tr>\n",
       "      <th>17</th>\n",
       "      <td>ARYKAYAKKPAKKKRWLSKLFKK</td>\n",
       "      <td>23</td>\n",
       "    </tr>\n",
       "    <tr>\n",
       "      <th>18</th>\n",
       "      <td>KNSWKKIGKAVKKAGKKIAKAVAKGAAQVVSQIK</td>\n",
       "      <td>34</td>\n",
       "    </tr>\n",
       "    <tr>\n",
       "      <th>19</th>\n",
       "      <td>KSWIKSKFRKLKKLVKKKLKSLIS</td>\n",
       "      <td>24</td>\n",
       "    </tr>\n",
       "  </tbody>\n",
       "</table>\n",
       "</div>"
      ],
      "text/plain": [
       "                                      sequence length\n",
       "0                               IRFSPKLRWRPRWF     14\n",
       "1             RRFWKRLFRRFGPKILGVAGAVLKALPFPPIK     32\n",
       "2                           VFALLILLILLIFLRKKK     18\n",
       "3                         GLLKILKSIKKAAKKVIKAV     20\n",
       "4                           FGGSWGGSGGSSGGWWKH     18\n",
       "5                  KEGWLAWWKKGAKKVVHKAAHVVGKAF     27\n",
       "6                            INTRKLLKLFKRFLKKG     17\n",
       "7                       VRLLLRRGIRILKKFRKIFWKS     22\n",
       "8                         KFGPWFWRRWRWRRPRPWWC     20\n",
       "9                           SGVWKLIKKLFRMVMDAT     18\n",
       "10                          ISKCGLKISKFSFRIKCG     18\n",
       "11                       FYIGKWGDKTFKWHWKKPHHW     21\n",
       "12                        KLLPWWKKILKKIFKILKKL     20\n",
       "13                        INLLLNNFKLIWKGLKRLFS     20\n",
       "14  RRRRLRWLGHVLRRPPNYIPRGVLFWKWRYVKRRPRTWRPRY     42\n",
       "15                          KNPKQRNPKWRKPKFRKY     18\n",
       "16           ITPWWKVFKKLFGKATGKAVKALANVAGKSVAA     33\n",
       "17                     ARYKAYAKKPAKKKRWLSKLFKK     23\n",
       "18          KNSWKKIGKAVKKAGKKIAKAVAKGAAQVVSQIK     34\n",
       "19                    KSWIKSKFRKLKKLVKKKLKSLIS     24"
      ]
     },
     "execution_count": 6,
     "metadata": {},
     "output_type": "execute_result"
    }
   ],
   "source": [
    "# create dataframe of generated sequences\n",
    "gen_seq_df = pd.DataFrame(columns = ('sequence', 'length'))\n",
    "gen_seq_df.sequence = gen_seq\n",
    "\n",
    "# calculate length of each sequence\n",
    "for i in range(len(gen_seq)):\n",
    "    gen_seq_df.length[i] = len(gen_seq_df.sequence[i])\n",
    "\n",
    "# remove sequences with length > 100, if they exist\n",
    "gen_seq_df = gen_seq_df[gen_seq_df.length < 101]\n",
    "print(len(gen_seq_df))\n",
    "\n",
    "# drop sequences with “B” residue (asparagine OR aspartic acid) or unknown 'X'\n",
    "drop_list = []\n",
    "for ind, row in gen_seq_df.iterrows():\n",
    "    if ('B' in row['sequence']) or ('X' in row['sequence']):\n",
    "        drop_list.append(ind)\n",
    "print(len(drop_list))\n",
    "\n",
    "gen_seq_df.drop(drop_list, inplace=True)\n",
    "gen_seq_df"
   ]
  },
  {
   "cell_type": "code",
   "execution_count": 7,
   "id": "af50ed8a",
   "metadata": {},
   "outputs": [],
   "source": [
    "# save generated sequences as a csv file\n",
    "gen_seq_df.to_csv('/data/hansol/jroot/amp_loragen/generated_sequences.csv', header = True)"
   ]
  }
 ],
 "metadata": {
  "kernelspec": {
   "display_name": "gpt",
   "language": "python",
   "name": "gpt"
  },
  "language_info": {
   "codemirror_mode": {
    "name": "ipython",
    "version": 3
   },
   "file_extension": ".py",
   "mimetype": "text/x-python",
   "name": "python",
   "nbconvert_exporter": "python",
   "pygments_lexer": "ipython3",
   "version": "3.8.0"
  }
 },
 "nbformat": 4,
 "nbformat_minor": 5
}
